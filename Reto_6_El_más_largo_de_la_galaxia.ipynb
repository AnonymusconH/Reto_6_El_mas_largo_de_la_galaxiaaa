{
  "nbformat": 4,
  "nbformat_minor": 0,
  "metadata": {
    "colab": {
      "provenance": [],
      "authorship_tag": "ABX9TyOu4Npo+bwGFytk41N3iCXu",
      "include_colab_link": true
    },
    "kernelspec": {
      "name": "python3",
      "display_name": "Python 3"
    },
    "language_info": {
      "name": "python"
    }
  },
  "cells": [
    {
      "cell_type": "markdown",
      "metadata": {
        "id": "view-in-github",
        "colab_type": "text"
      },
      "source": [
        "<a href=\"https://colab.research.google.com/github/AnonymusconH/Reto_6_El_mas_largo_de_la_galaxiaaa/blob/main/Reto_6_El_m%C3%A1s_largo_de_la_galaxia.ipynb\" target=\"_parent\"><img src=\"https://colab.research.google.com/assets/colab-badge.svg\" alt=\"Open In Colab\"/></a>"
      ]
    },
    {
      "cell_type": "markdown",
      "source": [
        "## Punto 1\n",
        "\n",
        "Una función matemática para calcular el volumen y el área superficial.\n",
        "\n",
        "Cree dos funciones en python para calcular los valores antes establecidos, al ingresar por teclado r1, r2 y h.\n",
        "\n",
        "Revise como utilizar el valor de pi usando import math y math.pi"
      ],
      "metadata": {
        "id": "gdd9zhdq7plZ"
      }
    },
    {
      "cell_type": "code",
      "source": [
        "import math\n",
        "pi=math.pi\n",
        "\n",
        "def CalcularVolumen(r1:float,r2:float,h:float)-> float:\n",
        "    Vol= ((4*(pi*r1**3))/3) + ((pi*r2**2*h)/3)\n",
        "    return Vol\n",
        "\n",
        "def CalcularAreaSuperficial(r1:float,r2:float,h:float)-> float:\n",
        "    Asup= (4*pi*r1**2) + (pi*r2*(math.sqrt((r2**2)+(h**2))))\n",
        "    return Asup\n",
        "\n",
        "if __name__ == \"__main__\":\n",
        "    r1=float(input(\"Ingresa el primer radio de la esfera: \"))\n",
        "    r2=float(input(\"Ingresa ahora el radio del cono: \"))\n",
        "    h=float(input(\"Ingresa una altura del cono: \"))\n",
        "    volumentotal= CalcularVolumen(r1,r2,h)\n",
        "    Superficietotal= CalcularAreaSuperficial (r1,r2,h)\n",
        "print(\"El volumen total es: \"+str(volumentotal))\n",
        "print(\"El área superficial total es: \"+ str(Superficietotal))\n"
      ],
      "metadata": {
        "id": "mKCCgtAV70wN"
      },
      "execution_count": null,
      "outputs": []
    },
    {
      "cell_type": "markdown",
      "source": [
        "## PUNTO 2\n",
        "\n",
        "Una función matemática para calcular el área y el perimetro.\n",
        "\n",
        "Cree dos funciones en python para calcular los valores antes establecidos, al ingresar por teclado r, a y b.\n",
        "\n",
        "Revise como utilizar el valor de pi usando import math y math.pi"
      ],
      "metadata": {
        "id": "2IhexE8W7564"
      }
    },
    {
      "cell_type": "code",
      "source": [
        "import math\n",
        "pi=math.pi\n",
        "\n",
        "def Cal_Area(r:float, b:float, a:float)-> float:\n",
        "    Área= (b*a)+ (2(pi*r**2))\n",
        "    return Área\n",
        "\n",
        "def Cal_Perimetro(r:float, b:float, a:float)-> float:\n",
        "    Perímetro= ((2*b)+(2*a)) + (2(2*pi*r))\n",
        "    return Perímetro\n",
        "\n",
        "if __name__ == \"__main__\":\n",
        "  r = float(input(\"Ingresa el radio de los circulos:\"))\n",
        "  a = float(input(\"Ingresa una altura para el rectangulo:\"))\n",
        "  b = float(input(\"Ingresa una base para el rectangulo:\"))\n",
        "  Área_total = Cal_Area(r, a, b)\n",
        "  Perímetro_total = Cal_Perimetro(r, a, b)\n",
        "\n",
        "  print(\"El area total es \" + str(Área_total))\n",
        "  print(\"El perimetro total es \" + str(Perímetro_total))\n"
      ],
      "metadata": {
        "id": "KxOAAf3w8Big"
      },
      "execution_count": null,
      "outputs": []
    },
    {
      "cell_type": "markdown",
      "source": [
        "## PUNTO 3\n",
        "\n",
        "Diseñe una función que calcule la cantidad de carne de aves en kilos si se tienen N gallinas, M gallos y K pollitos cada uno pesando 6 kilos, 7 kilos y 1 kilo respectivamente.\n",
        "\n"
      ],
      "metadata": {
        "id": "p-ae1avB8EJg"
      }
    },
    {
      "cell_type": "code",
      "source": [
        "\n",
        "import math\n",
        "\n",
        "def Calcular_cantidad_de_carne(N:float, M:float, K:float)-> float:\n",
        "    Cantidad_carne= (6*N) + (7*M) + (1*K)\n",
        "    return Cantidad_carne\n",
        "\n",
        "if __name__ == \"__main__\":\n",
        "\n",
        "    N=float(input(\"Ingresa el número de Gallinas: \"))\n",
        "    M=float(input(\"Ingresa el número de Gallos: \"))\n",
        "    K=float(input(\"Ingresa el número de Pollitos: \"))\n",
        "\n",
        "    Carne_en_total= Calcular_cantidad_de_carne (N,M,K)\n",
        "    print(\"La cantidad total de carne es: \" + str(Carne_en_total))\n"
      ],
      "metadata": {
        "id": "vL8_l84K8Jo4"
      },
      "execution_count": null,
      "outputs": []
    },
    {
      "cell_type": "markdown",
      "source": [
        "## PUNTO 4\n",
        "\n",
        "Mi mamá me manda a comprar P panes a 300 cada uno, M bolsas de leche a 3300 cada una y H huevos a 350 cada uno. Hacer un programa que me diga las vueltas (o lo que quedo debiendo) cuando me da un billete de B pesos"
      ],
      "metadata": {
        "id": "q7KUEQ_-8Lm3"
      }
    },
    {
      "cell_type": "code",
      "source": [
        "def Mercado(P:float, M:float, H:float, B:float)-> float:\n",
        "    Lista_de_compras= B - ((300*P) + (3300*M) + (350* H))\n",
        "    return Lista_de_compras\n",
        "\n",
        "if __name__ == \"__main__\":\n",
        "\n",
        "\n",
        "    P=float(input(\"Cuantos panes compaste: \"))\n",
        "    print(\"Te queda en: \" + str(300*P))\n",
        "\n",
        "    M=float(input(\"Cuantas bolsas de leche compraste: \"))\n",
        "    print(\"Te queda en: \" + str(3300*M))\n",
        "\n",
        "    H= float (input(\"Cuanto huevos compraste: \"))\n",
        "    print(\"Te queda en: \" + str(350*H))\n",
        "\n",
        "\n",
        "    B= float(input(\"Pagaste en total con: \"))\n",
        "\n",
        "    vueltas= Mercado(P, M, H, B)\n",
        "\n",
        "\n",
        "    print(\"Te quedan de vueltas un total de: \" + str(vueltas))\n"
      ],
      "metadata": {
        "id": "rCmSSwr78R7v"
      },
      "execution_count": null,
      "outputs": []
    },
    {
      "cell_type": "markdown",
      "source": [
        "## PUNTO 5\n",
        "\n",
        "Haga un programa que utilice una función para calcular el valor de un préstamo C usando interés compuesto del i por n meses.\n"
      ],
      "metadata": {
        "id": "lWPmzQQl8U3X"
      }
    },
    {
      "cell_type": "code",
      "source": [
        "\n",
        "def interes_compuest(c:int,i:int,n:int)->int:\n",
        "    interes_aplicado= (c*((1+i)**n))\n",
        "    return interes_aplicado\n",
        "\n",
        "c=int(input(\"Ingrese un capital inicial: \"))\n",
        "i=int(input(\"Ingrese una tasa de interes (no sea usurero pai): \"))\n",
        "n=int(input(\"Ingrese el número de meses que desea dicho interes: \"))\n",
        "\n",
        "interes_final= interes_compuest(c,i,n)\n",
        "\n",
        "print(\"El interes compuesto determinado para los parametros que dicto fue: \" +str(interes_final))\n",
        "\n"
      ],
      "metadata": {
        "id": "_fRU4_hx8Y0W"
      },
      "execution_count": null,
      "outputs": []
    },
    {
      "cell_type": "markdown",
      "source": [
        "## PUNTO 6\n",
        "\n",
        "El número de contagiados de Covid-19 en el país de NuncaLandia se duplica cada día. Hacer un programa que diga el número total de personas que se han contagiado cuando pasen D días a partir de hoy, si el número de contagiados actuales es C"
      ],
      "metadata": {
        "id": "2meieADS8au_"
      }
    },
    {
      "cell_type": "code",
      "source": [
        "\n",
        "def no_contagiados(c:int,d:int)->int:\n",
        "    contagios= c*(2*d)\n",
        "\n",
        "if __name__ == \"__main__\":\n",
        "\n",
        "    c=int(input(\"Numero de contagios: \"))\n",
        "    d=int(input(\"Dias transcurridos: \"))\n",
        "\n",
        "contagios_total= no_contagiados(c,d)\n",
        "\n",
        "print(\"El numero de contagiados pasado dichos dias es: \" + str(no_contagiados))\n"
      ],
      "metadata": {
        "id": "xTsiAwIi8efu"
      },
      "execution_count": null,
      "outputs": []
    }
  ]
}